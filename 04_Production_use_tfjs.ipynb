{
  "nbformat": 4,
  "nbformat_minor": 0,
  "metadata": {
    "colab": {
      "name": "04_Production_use-tfjs.ipynb",
      "version": "0.3.2",
      "provenance": [],
      "collapsed_sections": [],
      "toc_visible": true,
      "include_colab_link": true
    },
    "kernelspec": {
      "name": "python3",
      "display_name": "Python 3"
    },
    "accelerator": "GPU"
  },
  "cells": [
    {
      "cell_type": "markdown",
      "metadata": {
        "id": "view-in-github",
        "colab_type": "text"
      },
      "source": [
        "<a href=\"https://colab.research.google.com/github/lc0/practical-ml-dahoam/blob/part-1/04_Production_use_tfjs.ipynb\" target=\"_parent\"><img src=\"https://colab.research.google.com/assets/colab-badge.svg\" alt=\"Open In Colab\"/></a>"
      ]
    },
    {
      "cell_type": "markdown",
      "metadata": {
        "id": "_k_F7bWIAY7Y",
        "colab_type": "text"
      },
      "source": [
        "# Production use\n",
        "## TensorFlow js"
      ]
    },
    {
      "cell_type": "code",
      "metadata": {
        "id": "0wdo_CSA_zaX",
        "colab_type": "code",
        "colab": {
          "base_uri": "https://localhost:8080/",
          "height": 204
        },
        "outputId": "28232849-3f3f-46ac-816f-fe1d67fecab6"
      },
      "source": [
        "!ls -laF"
      ],
      "execution_count": 2,
      "outputs": [
        {
          "output_type": "stream",
          "text": [
            "total 3352\n",
            "drwxr-xr-x 1 root root    4096 May 23 13:50 ./\n",
            "drwxr-xr-x 1 root root    4096 May 23 12:56 ../\n",
            "-rw-r--r-- 1 root root 3384133 May 23 13:01 00-210.tfrec\n",
            "-rw-r--r-- 1 root root    2547 May 23 12:56 adc.json\n",
            "drwxr-xr-x 1 root root    4096 May 23 12:56 .config/\n",
            "drwxr-xr-x 3 root root    4096 May 23 13:19 dataset/\n",
            "drwx------ 8 root root    4096 May 23 12:58 google_dataset/\n",
            "drwxr-xr-x 6 root root    4096 May 23 13:48 logs/\n",
            "drwxr-xr-x 3 root root    4096 May 23 13:59 models/\n",
            "drwxr-xr-x 1 root root    4096 May 15 16:23 sample_data/\n"
          ],
          "name": "stdout"
        }
      ]
    },
    {
      "cell_type": "code",
      "metadata": {
        "id": "Enk_zJjC_2Sj",
        "colab_type": "code",
        "colab": {
          "base_uri": "https://localhost:8080/",
          "height": 973
        },
        "outputId": "701bb998-5b3f-43a7-cfde-ba7a1479e63d"
      },
      "source": [
        "!pip install tensorflowjs"
      ],
      "execution_count": 4,
      "outputs": [
        {
          "output_type": "stream",
          "text": [
            "Collecting tensorflowjs\n",
            "  Downloading https://files.pythonhosted.org/packages/2e/95/c93699c03b532cdfe9d12bf36378efa300d94afeeebaee1883370cc7df79/tensorflowjs-1.1.2-py3-none-any.whl\n",
            "Collecting numpy==1.15.1 (from tensorflowjs)\n",
            "\u001b[?25l  Downloading https://files.pythonhosted.org/packages/fe/94/7049fed8373c52839c8cde619acaf2c9b83082b935e5aa8c0fa27a4a8bcc/numpy-1.15.1-cp36-cp36m-manylinux1_x86_64.whl (13.9MB)\n",
            "\u001b[K     |████████████████████████████████| 13.9MB 7.7MB/s \n",
            "\u001b[?25hRequirement already satisfied: h5py==2.8.0 in /usr/local/lib/python3.6/dist-packages (from tensorflowjs) (2.8.0)\n",
            "Collecting six==1.11.0 (from tensorflowjs)\n",
            "  Downloading https://files.pythonhosted.org/packages/67/4b/141a581104b1f6397bfa78ac9d43d8ad29a7ca43ea90a2d863fe3056e86a/six-1.11.0-py2.py3-none-any.whl\n",
            "Collecting tensorflow-hub==0.3.0 (from tensorflowjs)\n",
            "\u001b[?25l  Downloading https://files.pythonhosted.org/packages/9e/f0/3a3ced04c8359e562f1b91918d9bde797c8a916fcfeddc8dc5d673d1be20/tensorflow_hub-0.3.0-py2.py3-none-any.whl (73kB)\n",
            "\u001b[K     |████████████████████████████████| 81kB 26.5MB/s \n",
            "\u001b[?25hCollecting tf-nightly-2.0-preview>=2.0.0.dev20190502 (from tensorflowjs)\n",
            "\u001b[?25l  Downloading https://files.pythonhosted.org/packages/6d/de/ecb672082f5d6b7d6496fb94a586a5902223c585ac0c6d2b9a61c7f398da/tf_nightly_2.0_preview-2.0.0.dev20190523-cp36-cp36m-manylinux1_x86_64.whl (86.7MB)\n",
            "\u001b[K     |████████████████████████████████| 86.8MB 53.0MB/s \n",
            "\u001b[?25hRequirement already satisfied: keras==2.2.4 in /usr/local/lib/python3.6/dist-packages (from tensorflowjs) (2.2.4)\n",
            "Requirement already satisfied: protobuf>=3.4.0 in /usr/local/lib/python3.6/dist-packages (from tensorflow-hub==0.3.0->tensorflowjs) (3.7.1)\n",
            "Requirement already satisfied: grpcio>=1.8.6 in /usr/local/lib/python3.6/dist-packages (from tf-nightly-2.0-preview>=2.0.0.dev20190502->tensorflowjs) (1.15.0)\n",
            "Requirement already satisfied: astor>=0.6.0 in /usr/local/lib/python3.6/dist-packages (from tf-nightly-2.0-preview>=2.0.0.dev20190502->tensorflowjs) (0.7.1)\n",
            "Requirement already satisfied: tensorflow-estimator-2.0-preview in /usr/local/lib/python3.6/dist-packages (from tf-nightly-2.0-preview>=2.0.0.dev20190502->tensorflowjs) (1.14.0.dev2019052300)\n",
            "Requirement already satisfied: absl-py>=0.7.0 in /usr/local/lib/python3.6/dist-packages (from tf-nightly-2.0-preview>=2.0.0.dev20190502->tensorflowjs) (0.7.1)\n",
            "Requirement already satisfied: termcolor>=1.1.0 in /usr/local/lib/python3.6/dist-packages (from tf-nightly-2.0-preview>=2.0.0.dev20190502->tensorflowjs) (1.1.0)\n",
            "Requirement already satisfied: tb-nightly<1.15.0a0,>=1.14.0a0 in /usr/local/lib/python3.6/dist-packages (from tf-nightly-2.0-preview>=2.0.0.dev20190502->tensorflowjs) (1.14.0a20190523)\n",
            "Requirement already satisfied: wrapt>=1.11.1 in /usr/local/lib/python3.6/dist-packages (from tf-nightly-2.0-preview>=2.0.0.dev20190502->tensorflowjs) (1.11.1)\n",
            "Requirement already satisfied: gast>=0.2.0 in /usr/local/lib/python3.6/dist-packages (from tf-nightly-2.0-preview>=2.0.0.dev20190502->tensorflowjs) (0.2.2)\n",
            "Requirement already satisfied: google-pasta>=0.1.6 in /usr/local/lib/python3.6/dist-packages (from tf-nightly-2.0-preview>=2.0.0.dev20190502->tensorflowjs) (0.1.6)\n",
            "Requirement already satisfied: wheel>=0.26 in /usr/local/lib/python3.6/dist-packages (from tf-nightly-2.0-preview>=2.0.0.dev20190502->tensorflowjs) (0.33.4)\n",
            "Requirement already satisfied: keras-applications>=1.0.6 in /usr/local/lib/python3.6/dist-packages (from tf-nightly-2.0-preview>=2.0.0.dev20190502->tensorflowjs) (1.0.7)\n",
            "Requirement already satisfied: keras-preprocessing>=1.0.5 in /usr/local/lib/python3.6/dist-packages (from tf-nightly-2.0-preview>=2.0.0.dev20190502->tensorflowjs) (1.0.9)\n",
            "Requirement already satisfied: scipy>=0.14 in /usr/local/lib/python3.6/dist-packages (from keras==2.2.4->tensorflowjs) (1.3.0)\n",
            "Requirement already satisfied: pyyaml in /usr/local/lib/python3.6/dist-packages (from keras==2.2.4->tensorflowjs) (3.13)\n",
            "Requirement already satisfied: setuptools in /usr/local/lib/python3.6/dist-packages (from protobuf>=3.4.0->tensorflow-hub==0.3.0->tensorflowjs) (41.0.1)\n",
            "Requirement already satisfied: werkzeug>=0.11.15 in /usr/local/lib/python3.6/dist-packages (from tb-nightly<1.15.0a0,>=1.14.0a0->tf-nightly-2.0-preview>=2.0.0.dev20190502->tensorflowjs) (0.15.4)\n",
            "Requirement already satisfied: markdown>=2.6.8 in /usr/local/lib/python3.6/dist-packages (from tb-nightly<1.15.0a0,>=1.14.0a0->tf-nightly-2.0-preview>=2.0.0.dev20190502->tensorflowjs) (3.1)\n",
            "\u001b[31mERROR: thinc 6.12.1 has requirement wrapt<1.11.0,>=1.10.0, but you'll have wrapt 1.11.1 which is incompatible.\u001b[0m\n",
            "\u001b[31mERROR: s3fs 0.2.1 has requirement six>=1.12.0, but you'll have six 1.11.0 which is incompatible.\u001b[0m\n",
            "\u001b[31mERROR: jupyter-console 6.0.0 has requirement prompt-toolkit<2.1.0,>=2.0.0, but you'll have prompt-toolkit 1.0.16 which is incompatible.\u001b[0m\n",
            "\u001b[31mERROR: google-colab 1.0.0 has requirement six~=1.12.0, but you'll have six 1.11.0 which is incompatible.\u001b[0m\n",
            "\u001b[31mERROR: datascience 0.10.6 has requirement folium==0.2.1, but you'll have folium 0.8.3 which is incompatible.\u001b[0m\n",
            "\u001b[31mERROR: albumentations 0.1.12 has requirement imgaug<0.2.7,>=0.2.5, but you'll have imgaug 0.2.9 which is incompatible.\u001b[0m\n",
            "Installing collected packages: numpy, six, tensorflow-hub, tf-nightly-2.0-preview, tensorflowjs\n",
            "  Found existing installation: numpy 1.16.3\n",
            "    Uninstalling numpy-1.16.3:\n",
            "      Successfully uninstalled numpy-1.16.3\n",
            "  Found existing installation: six 1.12.0\n",
            "    Uninstalling six-1.12.0:\n",
            "      Successfully uninstalled six-1.12.0\n",
            "  Found existing installation: tensorflow-hub 0.4.0\n",
            "    Uninstalling tensorflow-hub-0.4.0:\n",
            "      Successfully uninstalled tensorflow-hub-0.4.0\n",
            "Successfully installed numpy-1.15.1 six-1.11.0 tensorflow-hub-0.3.0 tensorflowjs-1.1.2 tf-nightly-2.0-preview-2.0.0.dev20190523\n"
          ],
          "name": "stdout"
        },
        {
          "output_type": "display_data",
          "data": {
            "application/vnd.colab-display-data+json": {
              "pip_warning": {
                "packages": [
                  "numpy",
                  "six"
                ]
              }
            }
          },
          "metadata": {
            "tags": []
          }
        }
      ]
    },
    {
      "cell_type": "markdown",
      "metadata": {
        "id": "yBxrDH_xBynw",
        "colab_type": "text"
      },
      "source": [
        "Convert model"
      ]
    },
    {
      "cell_type": "code",
      "metadata": {
        "id": "QDn1srCAArcT",
        "colab_type": "code",
        "colab": {
          "base_uri": "https://localhost:8080/",
          "height": 85
        },
        "outputId": "95abe629-a4ba-40fd-d0f0-7fe28b2edbdc"
      },
      "source": [
        "!tensorflowjs_converter --input_format keras \\\n",
        "                        models/model_transfered_mobilenet.h5 \\\n",
        "                        prod/tfjs"
      ],
      "execution_count": 2,
      "outputs": [
        {
          "output_type": "stream",
          "text": [
            "ModuleNotFoundError: No module named 'numpy.core._multiarray_umath'\n",
            "ModuleNotFoundError: No module named 'numpy.core._multiarray_umath'\n",
            "ModuleNotFoundError: No module named 'numpy.core._multiarray_umath'\n",
            "ModuleNotFoundError: No module named 'numpy.core._multiarray_umath'\n"
          ],
          "name": "stdout"
        }
      ]
    },
    {
      "cell_type": "code",
      "metadata": {
        "id": "mQlfVXjBBPF0",
        "colab_type": "code",
        "colab": {
          "base_uri": "https://localhost:8080/",
          "height": 51
        },
        "outputId": "de45e727-88b6-41dd-a90f-37c853f4a2f2"
      },
      "source": [
        "!pip freeze | grep numpy"
      ],
      "execution_count": 3,
      "outputs": [
        {
          "output_type": "stream",
          "text": [
            "msgpack-numpy==0.4.3.2\n",
            "numpy==1.15.1\n"
          ],
          "name": "stdout"
        }
      ]
    },
    {
      "cell_type": "code",
      "metadata": {
        "id": "AXOIx5heCmqs",
        "colab_type": "code",
        "colab": {
          "base_uri": "https://localhost:8080/",
          "height": 344
        },
        "outputId": "9c2ed77d-e9d0-4b09-9e91-c5c985832518"
      },
      "source": [
        "!pip install numpy==1.16.1"
      ],
      "execution_count": 5,
      "outputs": [
        {
          "output_type": "stream",
          "text": [
            "Collecting numpy==1.16.1\n",
            "\u001b[?25l  Downloading https://files.pythonhosted.org/packages/f5/bf/4981bcbee43934f0adb8f764a1e70ab0ee5a448f6505bd04a87a2fda2a8b/numpy-1.16.1-cp36-cp36m-manylinux1_x86_64.whl (17.3MB)\n",
            "\u001b[K     |████████████████████████████████| 17.3MB 2.7MB/s \n",
            "\u001b[31mERROR: thinc 6.12.1 has requirement wrapt<1.11.0,>=1.10.0, but you'll have wrapt 1.11.1 which is incompatible.\u001b[0m\n",
            "\u001b[31mERROR: tensorflowjs 1.1.2 has requirement numpy==1.15.1, but you'll have numpy 1.16.1 which is incompatible.\u001b[0m\n",
            "\u001b[31mERROR: google-colab 1.0.0 has requirement six~=1.12.0, but you'll have six 1.11.0 which is incompatible.\u001b[0m\n",
            "\u001b[31mERROR: datascience 0.10.6 has requirement folium==0.2.1, but you'll have folium 0.8.3 which is incompatible.\u001b[0m\n",
            "\u001b[31mERROR: albumentations 0.1.12 has requirement imgaug<0.2.7,>=0.2.5, but you'll have imgaug 0.2.9 which is incompatible.\u001b[0m\n",
            "\u001b[?25hInstalling collected packages: numpy\n",
            "  Found existing installation: numpy 1.16.3\n",
            "    Uninstalling numpy-1.16.3:\n",
            "      Successfully uninstalled numpy-1.16.3\n",
            "Successfully installed numpy-1.16.1\n"
          ],
          "name": "stdout"
        },
        {
          "output_type": "display_data",
          "data": {
            "application/vnd.colab-display-data+json": {
              "pip_warning": {
                "packages": [
                  "numpy"
                ]
              }
            }
          },
          "metadata": {
            "tags": []
          }
        }
      ]
    },
    {
      "cell_type": "code",
      "metadata": {
        "id": "A5Q9STyhCo2b",
        "colab_type": "code",
        "colab": {}
      },
      "source": [
        "!tensorflowjs_converter --input_format keras \\\n",
        "                        models/model_transfered_mobilenet.h5 \\\n",
        "                        prod/tfjs"
      ],
      "execution_count": 0,
      "outputs": []
    },
    {
      "cell_type": "code",
      "metadata": {
        "id": "8WN2i3gmC5S2",
        "colab_type": "code",
        "colab": {
          "base_uri": "https://localhost:8080/",
          "height": 136
        },
        "outputId": "35310f50-58f7-45ca-d536-3e1cd922ec1f"
      },
      "source": [
        "!ls -laF prod/tfjs/"
      ],
      "execution_count": 4,
      "outputs": [
        {
          "output_type": "stream",
          "text": [
            "total 9832\n",
            "drwxr-xr-x 2 root root    4096 May 23 14:11 ./\n",
            "drwxr-xr-x 3 root root    4096 May 23 14:11 ../\n",
            "-rw-r--r-- 1 root root 4194304 May 23 14:14 group1-shard1of3.bin\n",
            "-rw-r--r-- 1 root root 4194304 May 23 14:14 group1-shard2of3.bin\n",
            "-rw-r--r-- 1 root root 1564948 May 23 14:14 group1-shard3of3.bin\n",
            "-rw-r--r-- 1 root root  101874 May 23 14:14 model.json\n"
          ],
          "name": "stdout"
        }
      ]
    },
    {
      "cell_type": "markdown",
      "metadata": {
        "id": "9RGCx9SYDwgy",
        "colab_type": "text"
      },
      "source": [
        "## App base"
      ]
    },
    {
      "cell_type": "code",
      "metadata": {
        "id": "0qIQLRdFDzql",
        "colab_type": "code",
        "colab": {
          "base_uri": "https://localhost:8080/",
          "height": 34
        },
        "outputId": "28f66f43-da34-4635-c97d-304f04a3d874"
      },
      "source": [
        "%%writefile prod/tfjs/index.html\n",
        "\n",
        "\n",
        "<html>\n",
        "<head>\n",
        "    <!-- Load the latest version of TensorFlow.js -->\n",
        "    <script src=\"https://unpkg.com/@tensorflow/tfjs\"></script>\n",
        "    <script src=\"https://unpkg.com/@tensorflow-models/mobilenet\"></script>\n",
        "    <script src=\"https://unpkg.com/@tensorflow-models/knn-classifier\"></script>\n",
        "\n",
        "</head>\n",
        "<body>\n",
        "    <style>\n",
        "        .pred-container {\n",
        "            margin-bottom: 20px;\n",
        "        }\n",
        "        .pred-container > div {\n",
        "            display: inline-block;\n",
        "            margin-right: 20px;\n",
        "            vertical-align: top;\n",
        "        }\n",
        "        .row {\n",
        "            display: table-row;\n",
        "        }\n",
        "        .cell {\n",
        "            display: table-cell;\n",
        "            padding-right: 20px;\n",
        "        }\n",
        "        #file-container {\n",
        "            margin-bottom: 20px;\n",
        "        }\n",
        "        </style>\n",
        "    <img id=\"img\" crossOrigin src=\"shoe.png\" width=192 height=192/>\n",
        "    <div id=\"predictions\"></div>\n",
        "\n",
        "\n",
        "    <!-- Load index.js after the content of the page -->\n",
        "    <script src=\"main.js\"></script>\n",
        "</body>\n",
        "</html>"
      ],
      "execution_count": 11,
      "outputs": [
        {
          "output_type": "stream",
          "text": [
            "Overwriting prod/tfjs/index.html\n"
          ],
          "name": "stdout"
        }
      ]
    },
    {
      "cell_type": "code",
      "metadata": {
        "id": "DzOh2NryEQ4x",
        "colab_type": "code",
        "colab": {
          "base_uri": "https://localhost:8080/",
          "height": 34
        },
        "outputId": "70ab08cb-4dfb-4bdf-b83d-ecf0eb243c47"
      },
      "source": [
        "%%writefile prod/tfjs/main.js\n",
        "\n",
        "\n",
        "\n",
        "IMAGE_SIZE = 192\n",
        "CLASSES = ['converse chuck 70', 'Exaggerated Soles', 'nike air max 90 essentials', 'nike react', 'Tie Dye sneakers']\n",
        "\n",
        "const predictionsElement = document.getElementById('predictions');\n",
        "\n",
        "async function app() {\n",
        "  console.log('Loading model..');\n",
        "\n",
        "  // Load the model.\n",
        "  const model = await tf.loadLayersModel('/model.json');\n",
        "  console.log('Sucessfully loaded model');\n",
        "\n",
        "  // Make a prediction through the model on our image.\n",
        "  const imgEl = document.getElementById('img');\n",
        "\n",
        "\n",
        "  const result = await classify(model, imgEl);\n",
        "  console.log(result);\n",
        "}\n",
        "\n",
        "\n",
        "async function classify(model, imgElement) {\n",
        "  console.log('Predicting...');\n",
        "\n",
        "  // The first start time includes the time it takes to extract the image\n",
        "  // from the HTML and preprocess it, in additon to the predict() call.\n",
        "  const startTime1 = performance.now();\n",
        "  // The second start time excludes the extraction and preprocessing and\n",
        "  // includes only the predict() call.\n",
        "  let startTime2;\n",
        "  const logits = tf.tidy(() => {\n",
        "    // tf.browser.fromPixels() returns a Tensor from an image element.\n",
        "    const img = tf.browser.fromPixels(imgElement, 3).toFloat();\n",
        "\n",
        "    // Normalize the image from [0, 255] to [-1, 1].\n",
        "    // const offset = tf.scalar(127.5);\n",
        "    // const normalized = img.sub(offset).div(offset);\n",
        "    normalized = img\n",
        "\n",
        "    // Reshape to a single-element batch so we can pass it to predict.\n",
        "    const batched = normalized.reshape([1, IMAGE_SIZE, IMAGE_SIZE, 3]);\n",
        "\n",
        "\n",
        "\n",
        "    startTime2 = performance.now();\n",
        "    // Make a prediction through mobilenet.\n",
        "    return model.predict(batched);\n",
        "  });\n",
        "\n",
        "  console.log(\"Logits from model: \", logits)\n",
        "\n",
        "  // Convert logits to probabilities and class names.\n",
        "  classes = await getTopKClasses(logits, 2);\n",
        "  console.log(\"Predicred classes: \", classes)\n",
        "\n",
        "  const totalTime1 = performance.now() - startTime1;\n",
        "  const totalTime2 = performance.now() - startTime2;\n",
        "  console.log(`Done in ${Math.floor(totalTime1)} ms ` +\n",
        "      `(not including preprocessing: ${Math.floor(totalTime2)} ms)`);\n",
        "\n",
        "  showResults(imgElement, classes);\n",
        "}\n",
        "\n",
        "async function getTopKClasses(logits, topK) {\n",
        "  const values = await logits.data();\n",
        "\n",
        "  const valuesAndIndices = [];\n",
        "  for (let i = 0; i < values.length; i++) {\n",
        "    valuesAndIndices.push({value: values[i], index: i});\n",
        "  }\n",
        "  valuesAndIndices.sort((a, b) => {\n",
        "    return b.value - a.value;\n",
        "  });\n",
        "  const topkValues = new Float32Array(topK);\n",
        "  const topkIndices = new Int32Array(topK);\n",
        "  for (let i = 0; i < topK; i++) {\n",
        "    topkValues[i] = valuesAndIndices[i].value;\n",
        "    topkIndices[i] = valuesAndIndices[i].index;\n",
        "  }\n",
        "\n",
        "  const topClassesAndProbs = [];\n",
        "  for (let i = 0; i < topkIndices.length; i++) {\n",
        "    topClassesAndProbs.push({\n",
        "      className: CLASSES[topkIndices[i]],\n",
        "      probability: topkValues[i]\n",
        "    })\n",
        "  }\n",
        "  return topClassesAndProbs;\n",
        "}\n",
        "\n",
        "function showResults(imgElement, classes) {\n",
        "  const predictionContainer = document.createElement('div');\n",
        "  predictionContainer.className = 'pred-container';\n",
        "\n",
        "  const imgContainer = document.createElement('div');\n",
        "  imgContainer.appendChild(imgElement);\n",
        "  predictionContainer.appendChild(imgContainer);\n",
        "\n",
        "  const probsContainer = document.createElement('div');\n",
        "  for (let i = 0; i < classes.length; i++) {\n",
        "    const row = document.createElement('div');\n",
        "    row.className = 'row';\n",
        "\n",
        "    const classElement = document.createElement('div');\n",
        "    classElement.className = 'cell';\n",
        "    classElement.innerText = classes[i].className;\n",
        "    row.appendChild(classElement);\n",
        "\n",
        "    const probsElement = document.createElement('div');\n",
        "    probsElement.className = 'cell';\n",
        "    probsElement.innerText = classes[i].probability.toFixed(3);\n",
        "    row.appendChild(probsElement);\n",
        "\n",
        "    probsContainer.appendChild(row);\n",
        "  }\n",
        "  predictionContainer.appendChild(probsContainer);\n",
        "\n",
        "  predictionsElement.insertBefore(\n",
        "      predictionContainer, predictionsElement.firstChild);\n",
        "}\n",
        "\n",
        "\n",
        "app();"
      ],
      "execution_count": 44,
      "outputs": [
        {
          "output_type": "stream",
          "text": [
            "Overwriting prod/tfjs/main.js\n"
          ],
          "name": "stdout"
        }
      ]
    },
    {
      "cell_type": "markdown",
      "metadata": {
        "id": "bZzYJUv6FfrO",
        "colab_type": "text"
      },
      "source": [
        "Open port to serve remotely"
      ]
    },
    {
      "cell_type": "code",
      "metadata": {
        "id": "AKTgFcINFj5A",
        "colab_type": "code",
        "colab": {}
      },
      "source": [
        "python3 -m http.server"
      ],
      "execution_count": 0,
      "outputs": []
    },
    {
      "cell_type": "markdown",
      "metadata": {
        "id": "nACLIxmLST9B",
        "colab_type": "text"
      },
      "source": [
        "ngrock to open port to outside"
      ]
    },
    {
      "cell_type": "code",
      "metadata": {
        "id": "w9D2Lj1USTd9",
        "colab_type": "code",
        "colab": {
          "base_uri": "https://localhost:8080/",
          "height": 238
        },
        "outputId": "c2a9b4a6-9ef1-4817-9420-860d27ea1aac"
      },
      "source": [
        "!wget https://bin.equinox.io/c/4VmDzA7iaHb/ngrok-stable-linux-amd64.zip\n",
        "!unzip ngrok-stable-linux-amd64.zip\n"
      ],
      "execution_count": 13,
      "outputs": [
        {
          "output_type": "stream",
          "text": [
            "--2019-05-23 15:22:42--  https://bin.equinox.io/c/4VmDzA7iaHb/ngrok-stable-linux-amd64.zip\n",
            "Resolving bin.equinox.io (bin.equinox.io)... 54.236.200.27, 52.45.248.161, 52.22.236.254, ...\n",
            "Connecting to bin.equinox.io (bin.equinox.io)|54.236.200.27|:443... connected.\n",
            "HTTP request sent, awaiting response... 200 OK\n",
            "Length: 16648024 (16M) [application/octet-stream]\n",
            "Saving to: ‘ngrok-stable-linux-amd64.zip’\n",
            "\n",
            "ngrok-stable-linux- 100%[===================>]  15.88M  7.19MB/s    in 2.2s    \n",
            "\n",
            "2019-05-23 15:22:45 (7.19 MB/s) - ‘ngrok-stable-linux-amd64.zip’ saved [16648024/16648024]\n",
            "\n",
            "Archive:  ngrok-stable-linux-amd64.zip\n",
            "  inflating: ngrok                   \n"
          ],
          "name": "stdout"
        }
      ]
    },
    {
      "cell_type": "code",
      "metadata": {
        "id": "tSxQAmqtS2-c",
        "colab_type": "code",
        "colab": {}
      },
      "source": [
        "get_ipython().system_raw('./ngrok http 8000 &')"
      ],
      "execution_count": 0,
      "outputs": []
    },
    {
      "cell_type": "code",
      "metadata": {
        "id": "RiHmmP6KTdZR",
        "colab_type": "code",
        "colab": {
          "base_uri": "https://localhost:8080/",
          "height": 34
        },
        "outputId": "eb3b42da-7290-45f3-c8f0-6c2e1beda95e"
      },
      "source": [
        "!curl -s http://localhost:4040/api/tunnels | python3 -c \\\n",
        "    \"import sys, json; print(json.load(sys.stdin)['tunnels'][0]['public_url'])\""
      ],
      "execution_count": 50,
      "outputs": [
        {
          "output_type": "stream",
          "text": [
            "https://5854a69d.ngrok.io\n"
          ],
          "name": "stdout"
        }
      ]
    },
    {
      "cell_type": "code",
      "metadata": {
        "id": "MxOZpnkjUmeX",
        "colab_type": "code",
        "colab": {
          "base_uri": "https://localhost:8080/",
          "height": 238
        },
        "outputId": "2dd87ba8-b14e-4d20-d373-89f0669fce14"
      },
      "source": [
        "!cd /content/prod/tfjs/ && python -m http.server"
      ],
      "execution_count": 51,
      "outputs": [
        {
          "output_type": "stream",
          "text": [
            "Serving HTTP on 0.0.0.0 port 8000 (http://0.0.0.0:8000/) ...\n",
            "127.0.0.1 - - [23/May/2019 15:43:40] \"GET / HTTP/1.1\" 200 -\n",
            "127.0.0.1 - - [23/May/2019 15:43:40] \"GET /shoe.png HTTP/1.1\" 200 -\n",
            "127.0.0.1 - - [23/May/2019 15:43:40] \"GET /main.js HTTP/1.1\" 200 -\n",
            "127.0.0.1 - - [23/May/2019 15:43:40] \"GET /model.json HTTP/1.1\" 200 -\n",
            "127.0.0.1 - - [23/May/2019 15:43:41] code 404, message File not found\n",
            "127.0.0.1 - - [23/May/2019 15:43:41] \"GET /favicon.ico HTTP/1.1\" 404 -\n",
            "127.0.0.1 - - [23/May/2019 15:43:42] \"GET /group1-shard2of3.bin HTTP/1.1\" 200 -\n",
            "127.0.0.1 - - [23/May/2019 15:43:42] \"GET /group1-shard1of3.bin HTTP/1.1\" 200 -\n",
            "127.0.0.1 - - [23/May/2019 15:43:42] \"GET /group1-shard3of3.bin HTTP/1.1\" 200 -\n",
            "\n",
            "Keyboard interrupt received, exiting.\n",
            "^C\n"
          ],
          "name": "stdout"
        }
      ]
    },
    {
      "cell_type": "markdown",
      "metadata": {
        "id": "PoXl1eoRBPYG",
        "colab_type": "text"
      },
      "source": [
        "### Links\n",
        "\n",
        "\n",
        "*  https://www.tensorflow.org/js/tutorials/conversion/import_keras\n",
        "*  https://github.com/tensorflow/tfjs-examples/blob/master/mobilenet/index.js\n",
        "\n"
      ]
    }
  ]
}